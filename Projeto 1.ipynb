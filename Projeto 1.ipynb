{
 "cells": [
  {
   "cell_type": "markdown",
   "metadata": {},
   "source": [
    "# Projeto 1-ciência dos dados\n",
    "## Laura Perim \n",
    "\n"
   ]
  },
  {
   "cell_type": "markdown",
   "metadata": {},
   "source": [
    "**Pergunta a ser respondida:**\n",
    "\n",
    "\n",
    "A entrada dos países membros da organização Mercosul, fundada em 1991, fortaleceu a economia desses países realmente?\n",
    "\n",
    "\n",
    "\n",
    "\n"
   ]
  },
  {
   "cell_type": "markdown",
   "metadata": {},
   "source": [
    " **Explicação da hipótese e mecanismo**\n",
    " \n",
    "  A entrada dos países contribui para um incremento na economia e investimentos.\n",
    "  \n",
    "  site de referência:http://www.mercosul.gov.br/saiba-mais-sobre-o-mercosul\n"
   ]
  },
  {
   "cell_type": "markdown",
   "metadata": {},
   "source": [
    "**Referencia dos dados dos países**\n",
    "\n",
    "\n",
    "https://data.worldbank.org/indicator/TX.VAL.TECH.MF.ZS\n",
    "\n",
    "https://data.worldbank.org/indicator/NY.GDP.DEFL.KD.ZG\n",
    "\n",
    "https://data.worldbank.org/indicator/NE.GDI.TOTL.ZS"
   ]
  },
  {
   "cell_type": "code",
   "execution_count": 3,
   "metadata": {},
   "outputs": [],
   "source": [
    "import pandas as pd \n",
    "import matplotlib.pyplot as plt\n",
    "import numpy as np"
   ]
  },
  {
   "cell_type": "code",
   "execution_count": 4,
   "metadata": {},
   "outputs": [],
   "source": [
    "import pandas as pd \n",
    "import matplotlib.pyplot as plt\n",
    "import numpy as np"
   ]
  },
  {
   "cell_type": "markdown",
   "metadata": {},
   "source": [
    "gfg"
   ]
  },
  {
   "cell_type": "code",
   "execution_count": 5,
   "metadata": {},
   "outputs": [
    {
     "data": {
      "text/html": [
       "<div>\n",
       "<style scoped>\n",
       "    .dataframe tbody tr th:only-of-type {\n",
       "        vertical-align: middle;\n",
       "    }\n",
       "\n",
       "    .dataframe tbody tr th {\n",
       "        vertical-align: top;\n",
       "    }\n",
       "\n",
       "    .dataframe thead th {\n",
       "        text-align: right;\n",
       "    }\n",
       "</style>\n",
       "<table border=\"1\" class=\"dataframe\">\n",
       "  <thead>\n",
       "    <tr style=\"text-align: right;\">\n",
       "      <th></th>\n",
       "      <th>GDP_2016</th>\n",
       "      <th>GDP_1996</th>\n",
       "      <th>high tec_2016</th>\n",
       "      <th>high tec_1996</th>\n",
       "      <th>inflation_2016</th>\n",
       "      <th>inflation_1996</th>\n",
       "    </tr>\n",
       "    <tr>\n",
       "      <th>country</th>\n",
       "      <th></th>\n",
       "      <th></th>\n",
       "      <th></th>\n",
       "      <th></th>\n",
       "      <th></th>\n",
       "      <th></th>\n",
       "    </tr>\n",
       "  </thead>\n",
       "  <tbody>\n",
       "    <tr>\n",
       "      <th>Brazil</th>\n",
       "      <td>15.4</td>\n",
       "      <td>17.3</td>\n",
       "      <td>13.40</td>\n",
       "      <td>6.21</td>\n",
       "      <td>8.140</td>\n",
       "      <td>18.5000</td>\n",
       "    </tr>\n",
       "    <tr>\n",
       "      <th>Argentina</th>\n",
       "      <td>17.0</td>\n",
       "      <td>18.1</td>\n",
       "      <td>8.79</td>\n",
       "      <td>5.59</td>\n",
       "      <td>40.100</td>\n",
       "      <td>-0.0524</td>\n",
       "    </tr>\n",
       "    <tr>\n",
       "      <th>Paraguay</th>\n",
       "      <td>18.0</td>\n",
       "      <td>22.1</td>\n",
       "      <td>7.25</td>\n",
       "      <td>1.27</td>\n",
       "      <td>5.280</td>\n",
       "      <td>11.4000</td>\n",
       "    </tr>\n",
       "    <tr>\n",
       "      <th>Venezuela</th>\n",
       "      <td>NaN</td>\n",
       "      <td>16.6</td>\n",
       "      <td>NaN</td>\n",
       "      <td>2.52</td>\n",
       "      <td>NaN</td>\n",
       "      <td>116.0000</td>\n",
       "    </tr>\n",
       "    <tr>\n",
       "      <th>Uruguay</th>\n",
       "      <td>17.8</td>\n",
       "      <td>15.2</td>\n",
       "      <td>9.71</td>\n",
       "      <td>2.66</td>\n",
       "      <td>7.350</td>\n",
       "      <td>26.4000</td>\n",
       "    </tr>\n",
       "    <tr>\n",
       "      <th>Chile</th>\n",
       "      <td>22.2</td>\n",
       "      <td>27.8</td>\n",
       "      <td>6.95</td>\n",
       "      <td>3.66</td>\n",
       "      <td>4.730</td>\n",
       "      <td>3.3700</td>\n",
       "    </tr>\n",
       "    <tr>\n",
       "      <th>Peru</th>\n",
       "      <td>22.1</td>\n",
       "      <td>22.6</td>\n",
       "      <td>4.22</td>\n",
       "      <td>5.82</td>\n",
       "      <td>2.880</td>\n",
       "      <td>9.6900</td>\n",
       "    </tr>\n",
       "    <tr>\n",
       "      <th>Spain</th>\n",
       "      <td>20.5</td>\n",
       "      <td>22.1</td>\n",
       "      <td>6.98</td>\n",
       "      <td>7.60</td>\n",
       "      <td>0.283</td>\n",
       "      <td>3.4700</td>\n",
       "    </tr>\n",
       "    <tr>\n",
       "      <th>United States</th>\n",
       "      <td>19.7</td>\n",
       "      <td>21.6</td>\n",
       "      <td>20.00</td>\n",
       "      <td>30.80</td>\n",
       "      <td>1.280</td>\n",
       "      <td>1.8300</td>\n",
       "    </tr>\n",
       "    <tr>\n",
       "      <th>United Kingdom</th>\n",
       "      <td>17.0</td>\n",
       "      <td>18.8</td>\n",
       "      <td>21.80</td>\n",
       "      <td>26.70</td>\n",
       "      <td>1.970</td>\n",
       "      <td>4.0800</td>\n",
       "    </tr>\n",
       "    <tr>\n",
       "      <th>Canada</th>\n",
       "      <td>23.2</td>\n",
       "      <td>19.0</td>\n",
       "      <td>12.90</td>\n",
       "      <td>15.80</td>\n",
       "      <td>0.612</td>\n",
       "      <td>1.7400</td>\n",
       "    </tr>\n",
       "    <tr>\n",
       "      <th>Bolivia</th>\n",
       "      <td>21.1</td>\n",
       "      <td>16.2</td>\n",
       "      <td>4.46</td>\n",
       "      <td>38.20</td>\n",
       "      <td>-1.350</td>\n",
       "      <td>11.6000</td>\n",
       "    </tr>\n",
       "    <tr>\n",
       "      <th>Colombia</th>\n",
       "      <td>24.7</td>\n",
       "      <td>22.2</td>\n",
       "      <td>9.83</td>\n",
       "      <td>7.74</td>\n",
       "      <td>4.880</td>\n",
       "      <td>16.9000</td>\n",
       "    </tr>\n",
       "    <tr>\n",
       "      <th>Ecuador</th>\n",
       "      <td>25.2</td>\n",
       "      <td>18.5</td>\n",
       "      <td>8.37</td>\n",
       "      <td>4.33</td>\n",
       "      <td>0.909</td>\n",
       "      <td>1.4900</td>\n",
       "    </tr>\n",
       "  </tbody>\n",
       "</table>\n",
       "</div>"
      ],
      "text/plain": [
       "                GDP_2016  GDP_1996  high tec_2016  high tec_1996  \\\n",
       "country                                                            \n",
       "Brazil              15.4      17.3          13.40           6.21   \n",
       "Argentina           17.0      18.1           8.79           5.59   \n",
       "Paraguay            18.0      22.1           7.25           1.27   \n",
       "Venezuela            NaN      16.6            NaN           2.52   \n",
       "Uruguay             17.8      15.2           9.71           2.66   \n",
       "Chile               22.2      27.8           6.95           3.66   \n",
       "Peru                22.1      22.6           4.22           5.82   \n",
       "Spain               20.5      22.1           6.98           7.60   \n",
       "United States       19.7      21.6          20.00          30.80   \n",
       "United Kingdom      17.0      18.8          21.80          26.70   \n",
       "Canada              23.2      19.0          12.90          15.80   \n",
       "Bolivia             21.1      16.2           4.46          38.20   \n",
       "Colombia            24.7      22.2           9.83           7.74   \n",
       "Ecuador             25.2      18.5           8.37           4.33   \n",
       "\n",
       "                inflation_2016  inflation_1996  \n",
       "country                                         \n",
       "Brazil                   8.140         18.5000  \n",
       "Argentina               40.100         -0.0524  \n",
       "Paraguay                 5.280         11.4000  \n",
       "Venezuela                  NaN        116.0000  \n",
       "Uruguay                  7.350         26.4000  \n",
       "Chile                    4.730          3.3700  \n",
       "Peru                     2.880          9.6900  \n",
       "Spain                    0.283          3.4700  \n",
       "United States            1.280          1.8300  \n",
       "United Kingdom           1.970          4.0800  \n",
       "Canada                   0.612          1.7400  \n",
       "Bolivia                 -1.350         11.6000  \n",
       "Colombia                 4.880         16.9000  \n",
       "Ecuador                  0.909          1.4900  "
      ]
     },
     "execution_count": 5,
     "metadata": {},
     "output_type": "execute_result"
    }
   ],
   "source": [
    "a=pd.read_excel('investments_percent_of_gdp.xlsx').set_index(\"country\")\n",
    "b=pd.read_excel('high_technology_exports_percent_of_manufactured_exports.xlsx').set_index(\"country\")\n",
    "c=pd.read_excel('inflation_annual_percent.xlsx').set_index(\"country\")\n",
    "linhas=[ \"Brazil\",\"Argentina\",\"Paraguay\",\"Venezuela\",\"Uruguay\",\"Chile\",\"Peru\",\"Spain\",\"United States\",\"United Kingdom\",\"Canada\",\"Bolivia\",\"Colombia\",\"Ecuador\"]\n",
    "colunas=[2016,1996]\n",
    "\n",
    "a_2016 = a.loc[linhas,colunas]\n",
    "b_2016 = b.loc[linhas,colunas]\n",
    "c_2016 = c.loc[linhas,colunas]\n",
    "\n",
    "a_2016.rename(columns={2016: 'GDP_2016'}, inplace=True)\n",
    "b_2016.rename(columns={2016: 'high tec_2016'}, inplace=True)\n",
    "c_2016.rename(columns={2016: 'inflation_2016'}, inplace=True)\n",
    "a_2016.rename(columns={1996: 'GDP_1996'}, inplace=True)\n",
    "b_2016.rename(columns={1996: 'high tec_1996'}, inplace=True)\n",
    "c_2016.rename(columns={1996: 'inflation_1996'}, inplace=True)\n",
    "\n",
    "\n",
    "faz_parte=[0,0,0,0,0,0,0,0]\n",
    "n_faz_parte=[1,1,1,1,1,1]\n",
    "\n",
    "\n",
    "data = pd.merge(a_2016, b_2016, left_index=True, right_index=True)\n",
    "data = pd.merge(data, c_2016, left_index=True, right_index=True)\n",
    "data\n"
   ]
  },
  {
   "cell_type": "code",
   "execution_count": 29,
   "metadata": {},
   "outputs": [],
   "source": [
    "l1=[ \"Brazil\",\"Argentina\",\"Paraguay\",\"Venezuela\",\"Uruguay\"]\n",
    "l2=[\"Spain\",\"United States\",\"United Kingdom\",\"Canada\"]\n",
    "l3=[\"Chile\",\"Peru\",\"Colombia\",\"Ecuador\",\"Bolivia\"]\n",
    "\n",
    "data.loc[l1,\"mercosul\"]= \"membro\"\n",
    "data.loc[l2,\"mercosul\"]= \"nao\"\n",
    "data.loc[l3,\"mercosul\"]= \"associado\"\n",
    "\n"
   ]
  },
  {
   "cell_type": "code",
   "execution_count": 30,
   "metadata": {},
   "outputs": [
    {
     "data": {
      "text/html": [
       "<div>\n",
       "<style scoped>\n",
       "    .dataframe tbody tr th:only-of-type {\n",
       "        vertical-align: middle;\n",
       "    }\n",
       "\n",
       "    .dataframe tbody tr th {\n",
       "        vertical-align: top;\n",
       "    }\n",
       "\n",
       "    .dataframe thead th {\n",
       "        text-align: right;\n",
       "    }\n",
       "</style>\n",
       "<table border=\"1\" class=\"dataframe\">\n",
       "  <thead>\n",
       "    <tr style=\"text-align: right;\">\n",
       "      <th></th>\n",
       "      <th>GDP_2016</th>\n",
       "      <th>GDP_1996</th>\n",
       "      <th>high tec_2016</th>\n",
       "      <th>high tec_1996</th>\n",
       "      <th>inflation_2016</th>\n",
       "      <th>inflation_1996</th>\n",
       "      <th>mercosul</th>\n",
       "    </tr>\n",
       "    <tr>\n",
       "      <th>country</th>\n",
       "      <th></th>\n",
       "      <th></th>\n",
       "      <th></th>\n",
       "      <th></th>\n",
       "      <th></th>\n",
       "      <th></th>\n",
       "      <th></th>\n",
       "    </tr>\n",
       "  </thead>\n",
       "  <tbody>\n",
       "    <tr>\n",
       "      <th>Brazil</th>\n",
       "      <td>15.4</td>\n",
       "      <td>17.3</td>\n",
       "      <td>13.40</td>\n",
       "      <td>6.21</td>\n",
       "      <td>8.140</td>\n",
       "      <td>18.5000</td>\n",
       "      <td>membro</td>\n",
       "    </tr>\n",
       "    <tr>\n",
       "      <th>Argentina</th>\n",
       "      <td>17.0</td>\n",
       "      <td>18.1</td>\n",
       "      <td>8.79</td>\n",
       "      <td>5.59</td>\n",
       "      <td>40.100</td>\n",
       "      <td>-0.0524</td>\n",
       "      <td>membro</td>\n",
       "    </tr>\n",
       "    <tr>\n",
       "      <th>Paraguay</th>\n",
       "      <td>18.0</td>\n",
       "      <td>22.1</td>\n",
       "      <td>7.25</td>\n",
       "      <td>1.27</td>\n",
       "      <td>5.280</td>\n",
       "      <td>11.4000</td>\n",
       "      <td>membro</td>\n",
       "    </tr>\n",
       "    <tr>\n",
       "      <th>Venezuela</th>\n",
       "      <td>NaN</td>\n",
       "      <td>16.6</td>\n",
       "      <td>NaN</td>\n",
       "      <td>2.52</td>\n",
       "      <td>NaN</td>\n",
       "      <td>116.0000</td>\n",
       "      <td>membro</td>\n",
       "    </tr>\n",
       "    <tr>\n",
       "      <th>Uruguay</th>\n",
       "      <td>17.8</td>\n",
       "      <td>15.2</td>\n",
       "      <td>9.71</td>\n",
       "      <td>2.66</td>\n",
       "      <td>7.350</td>\n",
       "      <td>26.4000</td>\n",
       "      <td>membro</td>\n",
       "    </tr>\n",
       "    <tr>\n",
       "      <th>Chile</th>\n",
       "      <td>22.2</td>\n",
       "      <td>27.8</td>\n",
       "      <td>6.95</td>\n",
       "      <td>3.66</td>\n",
       "      <td>4.730</td>\n",
       "      <td>3.3700</td>\n",
       "      <td>associado</td>\n",
       "    </tr>\n",
       "    <tr>\n",
       "      <th>Peru</th>\n",
       "      <td>22.1</td>\n",
       "      <td>22.6</td>\n",
       "      <td>4.22</td>\n",
       "      <td>5.82</td>\n",
       "      <td>2.880</td>\n",
       "      <td>9.6900</td>\n",
       "      <td>associado</td>\n",
       "    </tr>\n",
       "    <tr>\n",
       "      <th>Spain</th>\n",
       "      <td>20.5</td>\n",
       "      <td>22.1</td>\n",
       "      <td>6.98</td>\n",
       "      <td>7.60</td>\n",
       "      <td>0.283</td>\n",
       "      <td>3.4700</td>\n",
       "      <td>nao</td>\n",
       "    </tr>\n",
       "    <tr>\n",
       "      <th>United States</th>\n",
       "      <td>19.7</td>\n",
       "      <td>21.6</td>\n",
       "      <td>20.00</td>\n",
       "      <td>30.80</td>\n",
       "      <td>1.280</td>\n",
       "      <td>1.8300</td>\n",
       "      <td>nao</td>\n",
       "    </tr>\n",
       "    <tr>\n",
       "      <th>United Kingdom</th>\n",
       "      <td>17.0</td>\n",
       "      <td>18.8</td>\n",
       "      <td>21.80</td>\n",
       "      <td>26.70</td>\n",
       "      <td>1.970</td>\n",
       "      <td>4.0800</td>\n",
       "      <td>nao</td>\n",
       "    </tr>\n",
       "    <tr>\n",
       "      <th>Canada</th>\n",
       "      <td>23.2</td>\n",
       "      <td>19.0</td>\n",
       "      <td>12.90</td>\n",
       "      <td>15.80</td>\n",
       "      <td>0.612</td>\n",
       "      <td>1.7400</td>\n",
       "      <td>nao</td>\n",
       "    </tr>\n",
       "    <tr>\n",
       "      <th>Bolivia</th>\n",
       "      <td>21.1</td>\n",
       "      <td>16.2</td>\n",
       "      <td>4.46</td>\n",
       "      <td>38.20</td>\n",
       "      <td>-1.350</td>\n",
       "      <td>11.6000</td>\n",
       "      <td>associado</td>\n",
       "    </tr>\n",
       "    <tr>\n",
       "      <th>Colombia</th>\n",
       "      <td>24.7</td>\n",
       "      <td>22.2</td>\n",
       "      <td>9.83</td>\n",
       "      <td>7.74</td>\n",
       "      <td>4.880</td>\n",
       "      <td>16.9000</td>\n",
       "      <td>associado</td>\n",
       "    </tr>\n",
       "    <tr>\n",
       "      <th>Ecuador</th>\n",
       "      <td>25.2</td>\n",
       "      <td>18.5</td>\n",
       "      <td>8.37</td>\n",
       "      <td>4.33</td>\n",
       "      <td>0.909</td>\n",
       "      <td>1.4900</td>\n",
       "      <td>associado</td>\n",
       "    </tr>\n",
       "  </tbody>\n",
       "</table>\n",
       "</div>"
      ],
      "text/plain": [
       "                GDP_2016  GDP_1996  high tec_2016  high tec_1996  \\\n",
       "country                                                            \n",
       "Brazil              15.4      17.3          13.40           6.21   \n",
       "Argentina           17.0      18.1           8.79           5.59   \n",
       "Paraguay            18.0      22.1           7.25           1.27   \n",
       "Venezuela            NaN      16.6            NaN           2.52   \n",
       "Uruguay             17.8      15.2           9.71           2.66   \n",
       "Chile               22.2      27.8           6.95           3.66   \n",
       "Peru                22.1      22.6           4.22           5.82   \n",
       "Spain               20.5      22.1           6.98           7.60   \n",
       "United States       19.7      21.6          20.00          30.80   \n",
       "United Kingdom      17.0      18.8          21.80          26.70   \n",
       "Canada              23.2      19.0          12.90          15.80   \n",
       "Bolivia             21.1      16.2           4.46          38.20   \n",
       "Colombia            24.7      22.2           9.83           7.74   \n",
       "Ecuador             25.2      18.5           8.37           4.33   \n",
       "\n",
       "                inflation_2016  inflation_1996   mercosul  \n",
       "country                                                    \n",
       "Brazil                   8.140         18.5000     membro  \n",
       "Argentina               40.100         -0.0524     membro  \n",
       "Paraguay                 5.280         11.4000     membro  \n",
       "Venezuela                  NaN        116.0000     membro  \n",
       "Uruguay                  7.350         26.4000     membro  \n",
       "Chile                    4.730          3.3700  associado  \n",
       "Peru                     2.880          9.6900  associado  \n",
       "Spain                    0.283          3.4700        nao  \n",
       "United States            1.280          1.8300        nao  \n",
       "United Kingdom           1.970          4.0800        nao  \n",
       "Canada                   0.612          1.7400        nao  \n",
       "Bolivia                 -1.350         11.6000  associado  \n",
       "Colombia                 4.880         16.9000  associado  \n",
       "Ecuador                  0.909          1.4900  associado  "
      ]
     },
     "execution_count": 30,
     "metadata": {},
     "output_type": "execute_result"
    }
   ],
   "source": [
    "data"
   ]
  },
  {
   "cell_type": "code",
   "execution_count": 35,
   "metadata": {},
   "outputs": [
    {
     "ename": "AttributeError",
     "evalue": "'FramePlotMethods' object has no attribute 'l1'",
     "output_type": "error",
     "traceback": [
      "\u001b[1;31m---------------------------------------------------------------------------\u001b[0m",
      "\u001b[1;31mAttributeError\u001b[0m                            Traceback (most recent call last)",
      "\u001b[1;32m<ipython-input-35-0db2e8a0467b>\u001b[0m in \u001b[0;36m<module>\u001b[1;34m\u001b[0m\n\u001b[1;32m----> 1\u001b[1;33m \u001b[0mdata\u001b[0m\u001b[1;33m.\u001b[0m\u001b[0mplot\u001b[0m\u001b[1;33m.\u001b[0m\u001b[0ml1\u001b[0m\u001b[1;33m.\u001b[0m\u001b[0mscatter\u001b[0m\u001b[1;33m(\u001b[0m\u001b[1;34m\"inflation_2016\"\u001b[0m\u001b[1;33m,\u001b[0m\u001b[1;34m\"GDP_2016\"\u001b[0m\u001b[1;33m,\u001b[0m\u001b[0mcolor\u001b[0m\u001b[1;33m=\u001b[0m\u001b[1;34m\"red\"\u001b[0m\u001b[1;33m)\u001b[0m\u001b[1;33m\u001b[0m\u001b[1;33m\u001b[0m\u001b[0m\n\u001b[0m\u001b[0;32m      2\u001b[0m \u001b[1;33m\u001b[0m\u001b[0m\n",
      "\u001b[1;31mAttributeError\u001b[0m: 'FramePlotMethods' object has no attribute 'l1'"
     ]
    }
   ],
   "source": [
    "data.plot.l1.scatter(\"inflation_2016\",\"GDP_2016\",color=\"red\")\n",
    "\n"
   ]
  },
  {
   "cell_type": "code",
   "execution_count": 32,
   "metadata": {},
   "outputs": [
    {
     "data": {
      "text/plain": [
       "<matplotlib.axes._subplots.AxesSubplot at 0x1f5ad701860>"
      ]
     },
     "execution_count": 32,
     "metadata": {},
     "output_type": "execute_result"
    },
    {
     "data": {
      "image/png": "[encoded data removed]",
      "text/plain": [
       "<Figure size 432x288 with 1 Axes>"
      ]
     },
     "metadata": {
      "needs_background": "light"
     },
     "output_type": "display_data"
    }
   ],
   "source": [
    "data.plot.scatter(\"inflation_1996\",\"GDP_1996\")\n",
    "\n"
   ]
  },
  {
   "cell_type": "code",
   "execution_count": 16,
   "metadata": {
    "scrolled": true
   },
   "outputs": [
    {
     "data": {
      "text/plain": [
       "<matplotlib.axes._subplots.AxesSubplot at 0x1f5abf53278>"
      ]
     },
     "execution_count": 16,
     "metadata": {},
     "output_type": "execute_result"
    },
    {
     "data": {
      "image/png": "[encoded data removed]",
      "text/plain": [
       "<Figure size 432x288 with 1 Axes>"
      ]
     },
     "metadata": {
      "needs_background": "light"
     },
     "output_type": "display_data"
    }
   ],
   "source": [
    "data.plot.scatter(\"high tec_2016\",\"GDP_2016\")\n",
    "\n",
    "\n",
    "\n"
   ]
  },
  {
   "cell_type": "code",
   "execution_count": 17,
   "metadata": {},
   "outputs": [
    {
     "data": {
      "text/plain": [
       "<matplotlib.axes._subplots.AxesSubplot at 0x1f5ac44d8d0>"
      ]
     },
     "execution_count": 17,
     "metadata": {},
     "output_type": "execute_result"
    },
    {
     "data": {
      "image/png": "[encoded data removed]",
      "text/plain": [
       "<Figure size 432x288 with 1 Axes>"
      ]
     },
     "metadata": {
      "needs_background": "light"
     },
     "output_type": "display_data"
    }
   ],
   "source": [
    "data.plot.scatter(\"high tec_1996\",\"GDP_1996\")"
   ]
  },
  {
   "cell_type": "code",
   "execution_count": 18,
   "metadata": {},
   "outputs": [
    {
     "data": {
      "text/plain": [
       "<matplotlib.axes._subplots.AxesSubplot at 0x1f5ac4942e8>"
      ]
     },
     "execution_count": 18,
     "metadata": {},
     "output_type": "execute_result"
    },
    {
     "data": {
      "image/png": "[encoded data removed]",
      "text/plain": [
       "<Figure size 432x288 with 1 Axes>"
      ]
     },
     "metadata": {
      "needs_background": "light"
     },
     "output_type": "display_data"
    }
   ],
   "source": [
    "data.plot.scatter(\"inflation_2016\",\"high tec_2016\")"
   ]
  },
  {
   "cell_type": "code",
   "execution_count": 19,
   "metadata": {},
   "outputs": [
    {
     "data": {
      "text/plain": [
       "<matplotlib.axes._subplots.AxesSubplot at 0x1f5ac516908>"
      ]
     },
     "execution_count": 19,
     "metadata": {},
     "output_type": "execute_result"
    },
    {
     "data": {
      "image/png": "[encoded data removed]",
      "text/plain": [
       "<Figure size 432x288 with 1 Axes>"
      ]
     },
     "metadata": {
      "needs_background": "light"
     },
     "output_type": "display_data"
    }
   ],
   "source": [
    "data.plot.scatter(\"inflation_1996\",\"high tec_1996\")"
   ]
  },
  {
   "cell_type": "code",
   "execution_count": 21,
   "metadata": {},
   "outputs": [
    {
     "data": {
      "text/plain": [
       "<matplotlib.axes._subplots.AxesSubplot at 0x1f5ac585668>"
      ]
     },
     "execution_count": 21,
     "metadata": {},
     "output_type": "execute_result"
    },
    {
     "data": {
      "image/png": "[encoded data removed]",
      "text/plain": [
       "<Figure size 432x288 with 1 Axes>"
      ]
     },
     "metadata": {
      "needs_background": "light"
     },
     "output_type": "display_data"
    }
   ],
   "source": [
    "data.plot.box()"
   ]
  },
  {
   "cell_type": "code",
   "execution_count": 25,
   "metadata": {},
   "outputs": [
    {
     "data": {
      "text/plain": [
       "<matplotlib.axes._subplots.AxesSubplot at 0x1f5ad60b668>"
      ]
     },
     "execution_count": 25,
     "metadata": {},
     "output_type": "execute_result"
    },
    {
     "data": {
      "image/png": "[encoded data removed]",
      "text/plain": [
       "<Figure size 432x288 with 1 Axes>"
      ]
     },
     "metadata": {
      "needs_background": "light"
     },
     "output_type": "display_data"
    }
   ],
   "source": [
    "data.GDP_1996.plot.box()"
   ]
  },
  {
   "cell_type": "code",
   "execution_count": null,
   "metadata": {},
   "outputs": [],
   "source": []
  }
 ],
 "metadata": {
  "kernelspec": {
   "display_name": "Python 3",
   "language": "python",
   "name": "python3"
  },
  "language_info": {
   "codemirror_mode": {
    "name": "ipython",
    "version": 3
   },
   "file_extension": ".py",
   "mimetype": "text/x-python",
   "name": "python",
   "nbconvert_exporter": "python",
   "pygments_lexer": "ipython3",
   "version": "3.7.3"
  }
 },
 "nbformat": 4,
 "nbformat_minor": 2
}
