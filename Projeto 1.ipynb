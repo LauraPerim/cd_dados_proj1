{
 "cells": [
  {
   "cell_type": "markdown",
   "metadata": {},
   "source": [
    "# Projeto 1-ciência dos dados\n",
    "## Laura Perim \n",
    "\n"
   ]
  },
  {
   "cell_type": "markdown",
   "metadata": {},
   "source": [
    "**Pergunta a ser respondida:**\n",
    "\n",
    "\n",
    "A entrada dos países membros da organização Mercosul, fundada em 1991, fortaleceu a economia desses países realmente?\n",
    "\n",
    "\n",
    "\n",
    "\n"
   ]
  },
  {
   "cell_type": "markdown",
   "metadata": {},
   "source": [
    " **Explicação da hipótese e mecanismo**\n",
    " \n",
    "  A entrada dos países contribui para um incremento na economia e investimentos.\n",
    "  \n",
    "  site de referência:http://www.mercosul.gov.br/saiba-mais-sobre-o-mercosul\n"
   ]
  },
  {
   "cell_type": "markdown",
   "metadata": {},
   "source": [
    "**Referencia dos dados dos países**\n",
    "\n",
    "\n",
    "https://data.worldbank.org/indicator/TX.VAL.TECH.MF.ZS\n",
    "\n",
    "https://data.worldbank.org/indicator/NY.GDP.DEFL.KD.ZG\n",
    "\n",
    "https://data.worldbank.org/indicator/NE.GDI.TOTL.ZS"
   ]
  },
  {
   "cell_type": "code",
   "execution_count": 29,
   "metadata": {},
   "outputs": [],
   "source": [
    "import pandas as pd \n",
    "import matplotlib.pyplot as plt\n",
    "import numpy as np"
   ]
  },
  {
   "cell_type": "code",
   "execution_count": 30,
   "metadata": {},
   "outputs": [],
   "source": [
    "import pandas as pd \n",
    "import matplotlib.pyplot as plt\n",
    "import numpy as np"
   ]
  },
  {
   "cell_type": "code",
   "execution_count": 25,
   "metadata": {},
   "outputs": [
    {
     "data": {
      "text/html": [
       "<div>\n",
       "<style scoped>\n",
       "    .dataframe tbody tr th:only-of-type {\n",
       "        vertical-align: middle;\n",
       "    }\n",
       "\n",
       "    .dataframe tbody tr th {\n",
       "        vertical-align: top;\n",
       "    }\n",
       "\n",
       "    .dataframe thead th {\n",
       "        text-align: right;\n",
       "    }\n",
       "</style>\n",
       "<table border=\"1\" class=\"dataframe\">\n",
       "  <thead>\n",
       "    <tr style=\"text-align: right;\">\n",
       "      <th></th>\n",
       "      <th>GDP_2016</th>\n",
       "      <th>GDP_1996</th>\n",
       "      <th>high tec_2016</th>\n",
       "      <th>high tec_1996</th>\n",
       "      <th>inflation_2016</th>\n",
       "      <th>inflation_1996</th>\n",
       "    </tr>\n",
       "    <tr>\n",
       "      <th>country</th>\n",
       "      <th></th>\n",
       "      <th></th>\n",
       "      <th></th>\n",
       "      <th></th>\n",
       "      <th></th>\n",
       "      <th></th>\n",
       "    </tr>\n",
       "  </thead>\n",
       "  <tbody>\n",
       "    <tr>\n",
       "      <th>Brazil</th>\n",
       "      <td>15.4</td>\n",
       "      <td>17.3</td>\n",
       "      <td>13.40</td>\n",
       "      <td>6.21</td>\n",
       "      <td>8.14</td>\n",
       "      <td>18.5000</td>\n",
       "    </tr>\n",
       "    <tr>\n",
       "      <th>Argentina</th>\n",
       "      <td>17.0</td>\n",
       "      <td>18.1</td>\n",
       "      <td>8.79</td>\n",
       "      <td>5.59</td>\n",
       "      <td>40.10</td>\n",
       "      <td>-0.0524</td>\n",
       "    </tr>\n",
       "    <tr>\n",
       "      <th>Paraguay</th>\n",
       "      <td>18.0</td>\n",
       "      <td>22.1</td>\n",
       "      <td>7.25</td>\n",
       "      <td>1.27</td>\n",
       "      <td>5.28</td>\n",
       "      <td>11.4000</td>\n",
       "    </tr>\n",
       "    <tr>\n",
       "      <th>Venezuela</th>\n",
       "      <td>NaN</td>\n",
       "      <td>16.6</td>\n",
       "      <td>NaN</td>\n",
       "      <td>2.52</td>\n",
       "      <td>NaN</td>\n",
       "      <td>116.0000</td>\n",
       "    </tr>\n",
       "    <tr>\n",
       "      <th>Uruguay</th>\n",
       "      <td>17.8</td>\n",
       "      <td>15.2</td>\n",
       "      <td>9.71</td>\n",
       "      <td>2.66</td>\n",
       "      <td>7.35</td>\n",
       "      <td>26.4000</td>\n",
       "    </tr>\n",
       "    <tr>\n",
       "      <th>Chile</th>\n",
       "      <td>22.2</td>\n",
       "      <td>27.8</td>\n",
       "      <td>6.95</td>\n",
       "      <td>3.66</td>\n",
       "      <td>4.73</td>\n",
       "      <td>3.3700</td>\n",
       "    </tr>\n",
       "    <tr>\n",
       "      <th>Peru</th>\n",
       "      <td>22.1</td>\n",
       "      <td>22.6</td>\n",
       "      <td>4.22</td>\n",
       "      <td>5.82</td>\n",
       "      <td>2.88</td>\n",
       "      <td>9.6900</td>\n",
       "    </tr>\n",
       "  </tbody>\n",
       "</table>\n",
       "</div>"
      ],
      "text/plain": [
       "           GDP_2016  GDP_1996  high tec_2016  high tec_1996  inflation_2016  \\\n",
       "country                                                                       \n",
       "Brazil         15.4      17.3          13.40           6.21            8.14   \n",
       "Argentina      17.0      18.1           8.79           5.59           40.10   \n",
       "Paraguay       18.0      22.1           7.25           1.27            5.28   \n",
       "Venezuela       NaN      16.6            NaN           2.52             NaN   \n",
       "Uruguay        17.8      15.2           9.71           2.66            7.35   \n",
       "Chile          22.2      27.8           6.95           3.66            4.73   \n",
       "Peru           22.1      22.6           4.22           5.82            2.88   \n",
       "\n",
       "           inflation_1996  \n",
       "country                    \n",
       "Brazil            18.5000  \n",
       "Argentina         -0.0524  \n",
       "Paraguay          11.4000  \n",
       "Venezuela        116.0000  \n",
       "Uruguay           26.4000  \n",
       "Chile              3.3700  \n",
       "Peru               9.6900  "
      ]
     },
     "execution_count": 25,
     "metadata": {},
     "output_type": "execute_result"
    }
   ],
   "source": [
    "a=pd.read_excel('investments_percent_of_gdp.xlsx').set_index(\"country\")\n",
    "b=pd.read_excel('high_technology_exports_percent_of_manufactured_exports.xlsx').set_index(\"country\")\n",
    "c=pd.read_excel('inflation_annual_percent.xlsx').set_index(\"country\")\n",
    "linhas=[ \"Brazil\",\"Argentina\",\"Paraguay\",\"Venezuela\",\"Uruguay\",\"Chile\",\"Peru\"]\n",
    "colunas=[2016,1996]\n",
    "\n",
    "a_2016 = a.loc[linhas,colunas]\n",
    "b_2016 = b.loc[linhas,colunas]\n",
    "c_2016 = c.loc[linhas,colunas]\n",
    "\n",
    "a_2016.rename(columns={2016: 'GDP_2016'}, inplace=True)\n",
    "b_2016.rename(columns={2016: 'high tec_2016'}, inplace=True)\n",
    "c_2016.rename(columns={2016: 'inflation_2016'}, inplace=True)\n",
    "a_2016.rename(columns={1996: 'GDP_1996'}, inplace=True)\n",
    "b_2016.rename(columns={1996: 'high tec_1996'}, inplace=True)\n",
    "c_2016.rename(columns={1996: 'inflation_1996'}, inplace=True)\n",
    "\n",
    "\n",
    "\n",
    "\n",
    "\n",
    "data = pd.merge(a_2016, b_2016, left_index=True, right_index=True)\n",
    "data = pd.merge(data, c_2016, left_index=True, right_index=True)\n",
    "data\n"
   ]
  },
  {
   "cell_type": "code",
   "execution_count": null,
   "metadata": {},
   "outputs": [],
   "source": []
  },
  {
   "cell_type": "code",
   "execution_count": null,
   "metadata": {},
   "outputs": [],
   "source": []
  },
  {
   "cell_type": "code",
   "execution_count": null,
   "metadata": {},
   "outputs": [],
   "source": []
  },
  {
   "cell_type": "code",
   "execution_count": null,
   "metadata": {
    "scrolled": true
   },
   "outputs": [],
   "source": [
    "\n",
    "\n",
    "\n",
    "\n"
   ]
  },
  {
   "cell_type": "code",
   "execution_count": null,
   "metadata": {},
   "outputs": [],
   "source": []
  },
  {
   "cell_type": "code",
   "execution_count": null,
   "metadata": {},
   "outputs": [],
   "source": []
  },
  {
   "cell_type": "code",
   "execution_count": null,
   "metadata": {},
   "outputs": [],
   "source": []
  },
  {
   "cell_type": "code",
   "execution_count": null,
   "metadata": {},
   "outputs": [],
   "source": []
  }
 ],
 "metadata": {
  "kernelspec": {
   "display_name": "Python 3",
   "language": "python",
   "name": "python3"
  },
  "language_info": {
   "codemirror_mode": {
    "name": "ipython",
    "version": 3
   },
   "file_extension": ".py",
   "mimetype": "text/x-python",
   "name": "python",
   "nbconvert_exporter": "python",
   "pygments_lexer": "ipython3",
   "version": "3.7.3"
  }
 },
 "nbformat": 4,
 "nbformat_minor": 2
}
